{
 "metadata": {
  "language_info": {
   "codemirror_mode": {
    "name": "ipython",
    "version": 3
   },
   "file_extension": ".py",
   "mimetype": "text/x-python",
   "name": "python",
   "nbconvert_exporter": "python",
   "pygments_lexer": "ipython3",
   "version": "3.8.6"
  },
  "orig_nbformat": 4,
  "kernelspec": {
   "name": "python3",
   "display_name": "Python 3.8.6 64-bit"
  },
  "interpreter": {
   "hash": "2fb742c87dc6cd058c0a385a9c837e21dbb6f17228a0c196473fdea380586966"
  }
 },
 "nbformat": 4,
 "nbformat_minor": 2,
 "cells": [
  {
   "source": [
    "# Импортируем библиотеки"
   ],
   "cell_type": "markdown",
   "metadata": {}
  },
  {
   "cell_type": "code",
   "execution_count": 1,
   "metadata": {},
   "outputs": [],
   "source": [
    "import numpy as np\n",
    "import pandas as pd\n",
    "import re\n",
    "import requests\n",
    "from bs4 import BeautifulSoup\n",
    "from datetime import datetime\n",
    "from tqdm.notebook import tqdm"
   ]
  },
  {
   "source": [
    "# Откроем данные сайта arxiv.org"
   ],
   "cell_type": "markdown",
   "metadata": {}
  },
  {
   "cell_type": "code",
   "execution_count": 2,
   "metadata": {},
   "outputs": [
    {
     "output_type": "stream",
     "name": "stdout",
     "text": [
      "(1897853, 14)\n"
     ]
    },
    {
     "output_type": "execute_result",
     "data": {
      "text/plain": [
       "                 id              submitter  \\\n",
       "0  cond-mat/0101160      Gennadii Varzugin   \n",
       "1  astro-ph/0109371            Michel Boer   \n",
       "2  astro-ph/9709059  Liliya L. R. Williams   \n",
       "3      math/0501091       Thomas Puettmann   \n",
       "4      math/0501090        Daniel Ruberman   \n",
       "\n",
       "                                             authors  \\\n",
       "0           A.V. Rybin, G.G. Varzugin and J. Timonen   \n",
       "1  M. Boer (1), C. Thiebaut (1), A. Klotz (1), G....   \n",
       "2  Liliya L. R. Williams (1), Paul L. Schechter (...   \n",
       "3  Uwe Abresch (Ruhr-Universitaet Bochum), Carlos...   \n",
       "4               Daniel Ruberman and Nikolai Saveliev   \n",
       "\n",
       "                                               title  \\\n",
       "0  Singularity Formation and Collapse in the Attr...   \n",
       "1  Hands-On TAROT: Intercontinental use of the TA...   \n",
       "2  Measurement of the Hubble Constant Via Gravita...   \n",
       "3  Wiedersehen metrics and exotic involutions of ...   \n",
       "4          Casson--type invariants in dimension four   \n",
       "\n",
       "                                            comments journal-ref   doi  \\\n",
       "0  4 pages, 1 figure, v2. In this version of the ...        None  None   \n",
       "1  4 pages, Based on a demonstration presented at...        None  None   \n",
       "2  15 pages, LaTeX, figues included; To appear in...        None  None   \n",
       "3  17 pages, 5 figures, a QuickTime movie visuali...        None  None   \n",
       "4  30 pages, 5 figures. To appear in Proceedings ...        None  None   \n",
       "\n",
       "  report-no       categories license  \\\n",
       "0      None         cond-mat    None   \n",
       "1      None         astro-ph    None   \n",
       "2      None         astro-ph    None   \n",
       "3      None  math.GT math.DG    None   \n",
       "4      None          math.GT    None   \n",
       "\n",
       "                                            abstract  \\\n",
       "0    A generic mechanism of collapse in the Gross...   \n",
       "1    The TAROT telescope has for primary goal the...   \n",
       "2    Gravitational lensing is now widely and succ...   \n",
       "3    We provide explicit, simple, geometric formu...   \n",
       "4    This article surveys our ongoing project abo...   \n",
       "\n",
       "                                            versions update_date  \\\n",
       "0  [{'version': 'v1', 'created': 'Thu, 11 Jan 200...  2007-05-23   \n",
       "1  [{'version': 'v1', 'created': 'Fri, 21 Sep 200...  2007-05-23   \n",
       "2  [{'version': 'v1', 'created': 'Mon, 8 Sep 1997...  2007-05-23   \n",
       "3  [{'version': 'v1', 'created': 'Thu, 6 Jan 2005...  2007-05-23   \n",
       "4  [{'version': 'v1', 'created': 'Thu, 6 Jan 2005...  2007-05-23   \n",
       "\n",
       "                                      authors_parsed  \n",
       "0  [[Rybin, A. V., ], [Varzugin, G. G., ], [Timon...  \n",
       "1  [[Boer, M., ], [Thiebaut, C., ], [Klotz, A., ]...  \n",
       "2  [[Williams, Liliya L. R., ], [Schechter, Paul ...  \n",
       "3  [[Abresch, Uwe, , Ruhr-Universitaet Bochum], [...  \n",
       "4      [[Ruberman, Daniel, ], [Saveliev, Nikolai, ]]  "
      ],
      "text/html": "<div>\n<style scoped>\n    .dataframe tbody tr th:only-of-type {\n        vertical-align: middle;\n    }\n\n    .dataframe tbody tr th {\n        vertical-align: top;\n    }\n\n    .dataframe thead th {\n        text-align: right;\n    }\n</style>\n<table border=\"1\" class=\"dataframe\">\n  <thead>\n    <tr style=\"text-align: right;\">\n      <th></th>\n      <th>id</th>\n      <th>submitter</th>\n      <th>authors</th>\n      <th>title</th>\n      <th>comments</th>\n      <th>journal-ref</th>\n      <th>doi</th>\n      <th>report-no</th>\n      <th>categories</th>\n      <th>license</th>\n      <th>abstract</th>\n      <th>versions</th>\n      <th>update_date</th>\n      <th>authors_parsed</th>\n    </tr>\n  </thead>\n  <tbody>\n    <tr>\n      <th>0</th>\n      <td>cond-mat/0101160</td>\n      <td>Gennadii Varzugin</td>\n      <td>A.V. Rybin, G.G. Varzugin and J. Timonen</td>\n      <td>Singularity Formation and Collapse in the Attr...</td>\n      <td>4 pages, 1 figure, v2. In this version of the ...</td>\n      <td>None</td>\n      <td>None</td>\n      <td>None</td>\n      <td>cond-mat</td>\n      <td>None</td>\n      <td>A generic mechanism of collapse in the Gross...</td>\n      <td>[{'version': 'v1', 'created': 'Thu, 11 Jan 200...</td>\n      <td>2007-05-23</td>\n      <td>[[Rybin, A. V., ], [Varzugin, G. G., ], [Timon...</td>\n    </tr>\n    <tr>\n      <th>1</th>\n      <td>astro-ph/0109371</td>\n      <td>Michel Boer</td>\n      <td>M. Boer (1), C. Thiebaut (1), A. Klotz (1), G....</td>\n      <td>Hands-On TAROT: Intercontinental use of the TA...</td>\n      <td>4 pages, Based on a demonstration presented at...</td>\n      <td>None</td>\n      <td>None</td>\n      <td>None</td>\n      <td>astro-ph</td>\n      <td>None</td>\n      <td>The TAROT telescope has for primary goal the...</td>\n      <td>[{'version': 'v1', 'created': 'Fri, 21 Sep 200...</td>\n      <td>2007-05-23</td>\n      <td>[[Boer, M., ], [Thiebaut, C., ], [Klotz, A., ]...</td>\n    </tr>\n    <tr>\n      <th>2</th>\n      <td>astro-ph/9709059</td>\n      <td>Liliya L. R. Williams</td>\n      <td>Liliya L. R. Williams (1), Paul L. Schechter (...</td>\n      <td>Measurement of the Hubble Constant Via Gravita...</td>\n      <td>15 pages, LaTeX, figues included; To appear in...</td>\n      <td>None</td>\n      <td>None</td>\n      <td>None</td>\n      <td>astro-ph</td>\n      <td>None</td>\n      <td>Gravitational lensing is now widely and succ...</td>\n      <td>[{'version': 'v1', 'created': 'Mon, 8 Sep 1997...</td>\n      <td>2007-05-23</td>\n      <td>[[Williams, Liliya L. R., ], [Schechter, Paul ...</td>\n    </tr>\n    <tr>\n      <th>3</th>\n      <td>math/0501091</td>\n      <td>Thomas Puettmann</td>\n      <td>Uwe Abresch (Ruhr-Universitaet Bochum), Carlos...</td>\n      <td>Wiedersehen metrics and exotic involutions of ...</td>\n      <td>17 pages, 5 figures, a QuickTime movie visuali...</td>\n      <td>None</td>\n      <td>None</td>\n      <td>None</td>\n      <td>math.GT math.DG</td>\n      <td>None</td>\n      <td>We provide explicit, simple, geometric formu...</td>\n      <td>[{'version': 'v1', 'created': 'Thu, 6 Jan 2005...</td>\n      <td>2007-05-23</td>\n      <td>[[Abresch, Uwe, , Ruhr-Universitaet Bochum], [...</td>\n    </tr>\n    <tr>\n      <th>4</th>\n      <td>math/0501090</td>\n      <td>Daniel Ruberman</td>\n      <td>Daniel Ruberman and Nikolai Saveliev</td>\n      <td>Casson--type invariants in dimension four</td>\n      <td>30 pages, 5 figures. To appear in Proceedings ...</td>\n      <td>None</td>\n      <td>None</td>\n      <td>None</td>\n      <td>math.GT</td>\n      <td>None</td>\n      <td>This article surveys our ongoing project abo...</td>\n      <td>[{'version': 'v1', 'created': 'Thu, 6 Jan 2005...</td>\n      <td>2007-05-23</td>\n      <td>[[Ruberman, Daniel, ], [Saveliev, Nikolai, ]]</td>\n    </tr>\n  </tbody>\n</table>\n</div>"
     },
     "metadata": {},
     "execution_count": 2
    }
   ],
   "source": [
    "# https://www.kaggle.com/Cornell-University/arxiv\n",
    "arxiv = pd.read_json('../data/arxiv-metadata-oai-snapshot.json', lines=True)\n",
    "\n",
    "# преобразуем колонку с датой в тип данных даты\n",
    "arxiv['update_date'] = pd.to_datetime(arxiv['update_date'])\n",
    "\n",
    "# отсортируем по дате загрузки\n",
    "arxiv.sort_values(by='update_date', inplace=True, ignore_index=True)\n",
    "\n",
    "print(arxiv.shape)\n",
    "arxiv.head()"
   ]
  },
  {
   "source": [
    "# Преобразуем некоторые колонки в более читаемый вид\n",
    "## Выделим дату публикации статьи"
   ],
   "cell_type": "markdown",
   "metadata": {}
  },
  {
   "cell_type": "code",
   "execution_count": 4,
   "metadata": {},
   "outputs": [
    {
     "output_type": "execute_result",
     "data": {
      "text/plain": [
       "[{'version': 'v1', 'created': 'Thu, 11 Jan 2001 21:11:52 GMT'},\n",
       " {'version': 'v2', 'created': 'Tue, 30 Jan 2001 17:01:25 GMT'}]"
      ]
     },
     "metadata": {},
     "execution_count": 4
    }
   ],
   "source": [
    "# в данный момент они записаны внутри словаря, который находится в списке\n",
    "arxiv.iloc[0]['versions']"
   ]
  },
  {
   "cell_type": "code",
   "execution_count": 5,
   "metadata": {},
   "outputs": [],
   "source": [
    "def extract_publication_date(list_of_versions: list):\n",
    "    pulication_date = list_of_versions[0]['created']\n",
    "\n",
    "    pulication_datetime = datetime.strptime(pulication_date, '%a, %d %b %Y %H:%M:%S GMT')\n",
    "\n",
    "    return pulication_datetime\n",
    "\n",
    "def extract_last_update_date(list_of_versions: list):\n",
    "    last_update_date = list_of_versions[-1]['created']\n",
    "\n",
    "    last_update_datetime = datetime.strptime(last_update_date, '%a, %d %b %Y %H:%M:%S GMT')\n",
    "\n",
    "    return last_update_datetime"
   ]
  },
  {
   "cell_type": "code",
   "execution_count": 6,
   "metadata": {},
   "outputs": [
    {
     "output_type": "display_data",
     "data": {
      "text/plain": "HBox(children=(HTML(value=''), FloatProgress(value=0.0, max=1897853.0), HTML(value='')))",
      "application/vnd.jupyter.widget-view+json": {
       "version_major": 2,
       "version_minor": 0,
       "model_id": "cc5bed5fa4de4c0db34d8d424817e629"
      }
     },
     "metadata": {}
    },
    {
     "output_type": "stream",
     "name": "stdout",
     "text": [
      "\n"
     ]
    },
    {
     "output_type": "display_data",
     "data": {
      "text/plain": "HBox(children=(HTML(value=''), FloatProgress(value=0.0, max=1897853.0), HTML(value='')))",
      "application/vnd.jupyter.widget-view+json": {
       "version_major": 2,
       "version_minor": 0,
       "model_id": "81ee95bbf213414aa085f7417a74c747"
      }
     },
     "metadata": {}
    },
    {
     "output_type": "stream",
     "name": "stdout",
     "text": [
      "\n"
     ]
    }
   ],
   "source": [
    "tqdm.pandas()\n",
    "arxiv['pulication_date'] = arxiv['versions'].progress_apply(lambda x: extract_publication_date(x))\n",
    "arxiv['last_update_date'] = arxiv['versions'].progress_apply(lambda x: extract_last_update_date(x))\n",
    "\n",
    "arxiv['pulication_date'] = pd.to_datetime(arxiv['pulication_date'])\n",
    "arxiv['last_update_date'] = pd.to_datetime(arxiv['last_update_date'])"
   ]
  },
  {
   "cell_type": "code",
   "execution_count": 74,
   "metadata": {},
   "outputs": [],
   "source": [
    "# выделим года\n",
    "arxiv['publication_year'] = arxiv['pulication_date'].dt.year\n",
    "arxiv['last_update_year'] = arxiv['last_update_date'].dt.year\n",
    "\n",
    "arxiv['publication_month'] = arxiv['pulication_date'].dt.month\n",
    "arxiv['last_update_month'] = arxiv['last_update_date'].dt.month"
   ]
  },
  {
   "source": [
    "## Также выделим количество версий статьи "
   ],
   "cell_type": "markdown",
   "metadata": {}
  },
  {
   "cell_type": "code",
   "execution_count": 7,
   "metadata": {},
   "outputs": [],
   "source": [
    "arxiv['number_of_versions'] = arxiv['versions'].str.len()"
   ]
  },
  {
   "cell_type": "code",
   "execution_count": 8,
   "metadata": {},
   "outputs": [],
   "source": [
    "arxiv.drop(columns=['versions'], inplace=True)"
   ]
  },
  {
   "source": [
    "## Выделим разницу между датой создания статьи и датой публикации на сайте"
   ],
   "cell_type": "markdown",
   "metadata": {}
  },
  {
   "cell_type": "code",
   "execution_count": 10,
   "metadata": {},
   "outputs": [],
   "source": [
    "arxiv['publication_date_diff'] = arxiv['update_date'] - arxiv['pulication_date']\n",
    "arxiv['last_update_date_diff'] =  arxiv['update_date'] - arxiv['last_update_date']\n",
    "\n",
    "arxiv['publication_date_diff'] = round(arxiv['publication_date_diff'] / np.timedelta64(1, 'M'), 0)\n",
    "arxiv['last_update_date_diff'] = round(arxiv['last_update_date_diff'] / np.timedelta64(1, 'M'), 0)"
   ]
  },
  {
   "source": [
    "## Преобразуем авторов"
   ],
   "cell_type": "markdown",
   "metadata": {}
  },
  {
   "cell_type": "code",
   "execution_count": 11,
   "metadata": {},
   "outputs": [
    {
     "output_type": "execute_result",
     "data": {
      "text/plain": [
       "[['Rybin', 'A. V.', ''], ['Varzugin', 'G. G.', ''], ['Timonen', 'J.', '']]"
      ]
     },
     "metadata": {},
     "execution_count": 11
    }
   ],
   "source": [
    "# как видно, авторы записаны в списке внутри другого списка, и разделены строками, исправим это\n",
    "arxiv.iloc[0]['authors_parsed']"
   ]
  },
  {
   "cell_type": "code",
   "execution_count": 12,
   "metadata": {},
   "outputs": [],
   "source": [
    "def preprocess_authours(list_of_authors: list):\n",
    "    returned_list = [\" \".join(author[:-1]) for author in list_of_authors]\n",
    "    return returned_list"
   ]
  },
  {
   "cell_type": "code",
   "execution_count": 13,
   "metadata": {},
   "outputs": [
    {
     "output_type": "display_data",
     "data": {
      "text/plain": "HBox(children=(HTML(value=''), FloatProgress(value=0.0, max=1897853.0), HTML(value='')))",
      "application/vnd.jupyter.widget-view+json": {
       "version_major": 2,
       "version_minor": 0,
       "model_id": "24dd3288f3e64a8180ce2fa0d6c9672b"
      }
     },
     "metadata": {}
    },
    {
     "output_type": "stream",
     "name": "stdout",
     "text": [
      "\n"
     ]
    }
   ],
   "source": [
    "tqdm.pandas()\n",
    "arxiv['authors'] = arxiv['authors_parsed'].progress_apply(lambda x: preprocess_authours(x))\n",
    "\n",
    "arxiv.drop(columns=['authors_parsed'], inplace=True)"
   ]
  },
  {
   "source": [
    "## Выделим количество авторов"
   ],
   "cell_type": "markdown",
   "metadata": {}
  },
  {
   "cell_type": "code",
   "execution_count": 14,
   "metadata": {},
   "outputs": [],
   "source": [
    "arxiv['number_of_authors'] = arxiv['authors'].str.len()"
   ]
  },
  {
   "source": [
    "## Выделим количество категорий"
   ],
   "cell_type": "markdown",
   "metadata": {}
  },
  {
   "cell_type": "code",
   "execution_count": 61,
   "metadata": {},
   "outputs": [],
   "source": [
    "arxiv['number_of_categories'] = arxiv['categories'].str.split().str.len()"
   ]
  },
  {
   "source": [
    "## Переименуем темы в более развернутый вид"
   ],
   "cell_type": "markdown",
   "metadata": {}
  },
  {
   "cell_type": "code",
   "execution_count": 15,
   "metadata": {},
   "outputs": [
    {
     "output_type": "execute_result",
     "data": {
      "text/plain": [
       "'math.OA math.FA'"
      ]
     },
     "metadata": {},
     "execution_count": 15
    }
   ],
   "source": [
    "arxiv.iloc[11]['categories']"
   ]
  },
  {
   "cell_type": "code",
   "execution_count": 69,
   "metadata": {},
   "outputs": [],
   "source": [
    "category_map_old = {'astro-ph': 'Astrophysics',\n",
    "'astro-ph.CO': 'Cosmology and Nongalactic Astrophysics',\n",
    "'astro-ph.EP': 'Earth and Planetary Astrophysics',\n",
    "'astro-ph.GA': 'Astrophysics of Galaxies',\n",
    "'astro-ph.HE': 'High Energy Astrophysical Phenomena',\n",
    "'astro-ph.IM': 'Instrumentation and Methods for Astrophysics',\n",
    "'astro-ph.SR': 'Solar and Stellar Astrophysics',\n",
    "'cond-mat.dis-nn': 'Disordered Systems and Neural Networks',\n",
    "'cond-mat.mes-hall': 'Mesoscale and Nanoscale Physics',\n",
    "'cond-mat.mtrl-sci': 'Materials Science',\n",
    "'cond-mat.other': 'Other Condensed Matter',\n",
    "'cond-mat.quant-gas': 'Quantum Gases',\n",
    "'cond-mat.soft': 'Soft Condensed Matter',\n",
    "'cond-mat.stat-mech': 'Statistical Mechanics',\n",
    "'cond-mat.str-el': 'Strongly Correlated Electrons',\n",
    "'cond-mat.supr-con': 'Superconductivity',\n",
    "'cs.AI': 'Artificial Intelligence',\n",
    "'cs.AR': 'Hardware Architecture',\n",
    "'cs.CC': 'Computational Complexity',\n",
    "'cs.CE': 'Computational Engineering, Finance, and Science',\n",
    "'cs.CG': 'Computational Geometry',\n",
    "'cs.CL': 'Computation and Language',\n",
    "'cs.CR': 'Cryptography and Security',\n",
    "'cs.CV': 'Computer Vision and Pattern Recognition',\n",
    "'cs.CY': 'Computers and Society',\n",
    "'cs.DB': 'Databases',\n",
    "'cs.DC': 'Distributed, Parallel, and Cluster Computing',\n",
    "'cs.DL': 'Digital Libraries',\n",
    "'cs.DM': 'Discrete Mathematics',\n",
    "'cs.DS': 'Data Structures and Algorithms',\n",
    "'cs.ET': 'Emerging Technologies',\n",
    "'cs.FL': 'Formal Languages and Automata Theory',\n",
    "'cs.GL': 'General Literature',\n",
    "'cs.GR': 'Graphics',\n",
    "'cs.GT': 'Computer Science and Game Theory',\n",
    "'cs.HC': 'Human-Computer Interaction',\n",
    "'cs.IR': 'Information Retrieval',\n",
    "'cs.IT': 'Information Theory',\n",
    "'cs.LG': 'Machine Learning',\n",
    "'cs.LO': 'Logic in Computer Science',\n",
    "'cs.MA': 'Multiagent Systems',\n",
    "'cs.MM': 'Multimedia',\n",
    "'cs.MS': 'Mathematical Software',\n",
    "'cs.NA': 'Numerical Analysis',\n",
    "'cs.NE': 'Neural and Evolutionary Computing',\n",
    "'cs.NI': 'Networking and Internet Architecture',\n",
    "'cs.OH': 'Other Computer Science',\n",
    "'cs.OS': 'Operating Systems',\n",
    "'cs.PF': 'Performance',\n",
    "'cs.PL': 'Programming Languages',\n",
    "'cs.RO': 'Robotics',\n",
    "'cs.SC': 'Symbolic Computation',\n",
    "'cs.SD': 'Sound',\n",
    "'cs.SE': 'Software Engineering',\n",
    "'cs.SI': 'Social and Information Networks',\n",
    "'cs.SY': 'Systems and Control',\n",
    "'econ.EM': 'Econometrics',\n",
    "'eess.AS': 'Audio and Speech Processing',\n",
    "'eess.IV': 'Image and Video Processing',\n",
    "'eess.SP': 'Signal Processing',\n",
    "'gr-qc': 'General Relativity and Quantum Cosmology',\n",
    "'hep-ex': 'High Energy Physics - Experiment',\n",
    "'hep-lat': 'High Energy Physics - Lattice',\n",
    "'hep-ph': 'High Energy Physics - Phenomenology',\n",
    "'hep-th': 'High Energy Physics - Theory',\n",
    "'math.AC': 'Commutative Algebra',\n",
    "'math.AG': 'Algebraic Geometry',\n",
    "'math.AP': 'Analysis of PDEs',\n",
    "'math.AT': 'Algebraic Topology',\n",
    "'math.CA': 'Classical Analysis and ODEs',\n",
    "'math.CO': 'Combinatorics',\n",
    "'math.CT': 'Category Theory',\n",
    "'math.CV': 'Complex Variables',\n",
    "'math.DG': 'Differential Geometry',\n",
    "'math.DS': 'Dynamical Systems',\n",
    "'math.FA': 'Functional Analysis',\n",
    "'math.GM': 'General Mathematics',\n",
    "'math.GN': 'General Topology',\n",
    "'math.GR': 'Group Theory',\n",
    "'math.GT': 'Geometric Topology',\n",
    "'math.HO': 'History and Overview',\n",
    "'math.IT': 'Information Theory',\n",
    "'math.KT': 'K-Theory and Homology',\n",
    "'math.LO': 'Logic',\n",
    "'math.MG': 'Metric Geometry',\n",
    "'math.MP': 'Mathematical Physics',\n",
    "'math.NA': 'Numerical Analysis',\n",
    "'math.NT': 'Number Theory',\n",
    "'math.OA': 'Operator Algebras',\n",
    "'math.OC': 'Optimization and Control',\n",
    "'math.PR': 'Probability',\n",
    "'math.QA': 'Quantum Algebra',\n",
    "'math.RA': 'Rings and Algebras',\n",
    "'math.RT': 'Representation Theory',\n",
    "'math.SG': 'Symplectic Geometry',\n",
    "'math.SP': 'Spectral Theory',\n",
    "'math.ST': 'Statistics Theory',\n",
    "'math-ph': 'Mathematical Physics',\n",
    "'nlin.AO': 'Adaptation and Self-Organizing Systems',\n",
    "'nlin.CD': 'Chaotic Dynamics',\n",
    "'nlin.CG': 'Cellular Automata and Lattice Gases',\n",
    "'nlin.PS': 'Pattern Formation and Solitons',\n",
    "'nlin.SI': 'Exactly Solvable and Integrable Systems',\n",
    "'nucl-ex': 'Nuclear Experiment',\n",
    "'nucl-th': 'Nuclear Theory',\n",
    "'physics.acc-ph': 'Accelerator Physics',\n",
    "'physics.ao-ph': 'Atmospheric and Oceanic Physics',\n",
    "'physics.app-ph': 'Applied Physics',\n",
    "'physics.atm-clus': 'Atomic and Molecular Clusters',\n",
    "'physics.atom-ph': 'Atomic Physics',\n",
    "'physics.bio-ph': 'Biological Physics',\n",
    "'physics.chem-ph': 'Chemical Physics',\n",
    "'physics.class-ph': 'Classical Physics',\n",
    "'physics.comp-ph': 'Computational Physics',\n",
    "'physics.data-an': 'Data Analysis, Statistics and Probability',\n",
    "'physics.ed-ph': 'Physics Education',\n",
    "'physics.flu-dyn': 'Fluid Dynamics',\n",
    "'physics.gen-ph': 'General Physics',\n",
    "'physics.geo-ph': 'Geophysics',\n",
    "'physics.hist-ph': 'History and Philosophy of Physics',\n",
    "'physics.ins-det': 'Instrumentation and Detectors',\n",
    "'physics.med-ph': 'Medical Physics',\n",
    "'physics.optics': 'Optics',\n",
    "'physics.plasm-ph': 'Plasma Physics',\n",
    "'physics.pop-ph': 'Popular Physics',\n",
    "'physics.soc-ph': 'Physics and Society',\n",
    "'physics.space-ph': 'Space Physics',\n",
    "'q-bio.BM': 'Biomolecules',\n",
    "'q-bio.CB': 'Cell Behavior',\n",
    "'q-bio.GN': 'Genomics',\n",
    "'q-bio.MN': 'Molecular Networks',\n",
    "'q-bio.NC': 'Neurons and Cognition',\n",
    "'q-bio.OT': 'Other Quantitative Biology',\n",
    "'q-bio.PE': 'Populations and Evolution',\n",
    "'q-bio.QM': 'Quantitative Methods',\n",
    "'q-bio.SC': 'Subcellular Processes',\n",
    "'q-bio.TO': 'Tissues and Organs',\n",
    "'q-fin.CP': 'Computational Finance',\n",
    "'q-fin.EC': 'Economics',\n",
    "'q-fin.GN': 'General Finance',\n",
    "'q-fin.MF': 'Mathematical Finance',\n",
    "'q-fin.PM': 'Portfolio Management',\n",
    "'q-fin.PR': 'Pricing of Securities',\n",
    "'q-fin.RM': 'Risk Management',\n",
    "'q-fin.ST': 'Statistical Finance',\n",
    "'q-fin.TR': 'Trading and Market Microstructure',\n",
    "'quant-ph': 'Quantum Physics',\n",
    "'stat.AP': 'Applications',\n",
    "'stat.CO': 'Computation',\n",
    "'stat.ME': 'Methodology',\n",
    "'stat.ML': 'Machine Learning',\n",
    "'stat.OT': 'Other Statistics',\n",
    "'stat.TH': 'Statistics Theory'}"
   ]
  },
  {
   "cell_type": "code",
   "execution_count": 70,
   "metadata": {},
   "outputs": [],
   "source": [
    "arxiv['categories'] = arxiv['categories'].replace(category_map_old, regex=True)"
   ]
  },
  {
   "cell_type": "code",
   "execution_count": 72,
   "metadata": {},
   "outputs": [
    {
     "output_type": "stream",
     "name": "stdout",
     "text": [
      "(1897853, 20)\n"
     ]
    },
    {
     "output_type": "execute_result",
     "data": {
      "text/plain": [
       "                 id              submitter  \\\n",
       "0  cond-mat/0101160      Gennadii Varzugin   \n",
       "1  astro-ph/0109371            Michel Boer   \n",
       "2  astro-ph/9709059  Liliya L. R. Williams   \n",
       "3      math/0501091       Thomas Puettmann   \n",
       "4      math/0501090        Daniel Ruberman   \n",
       "\n",
       "                                             authors  \\\n",
       "0          [Rybin A. V., Varzugin G. G., Timonen J.]   \n",
       "1  [Boer M., Thiebaut C., Klotz A., Buchholtz G.,...   \n",
       "2         [Williams Liliya L. R., Schechter Paul L.]   \n",
       "3  [Abresch Uwe , Duran Carlos , Puettmann Thomas...   \n",
       "4                [Ruberman Daniel, Saveliev Nikolai]   \n",
       "\n",
       "                                               title  \\\n",
       "0  Singularity Formation and Collapse in the Attr...   \n",
       "1  Hands-On TAROT: Intercontinental use of the TA...   \n",
       "2  Measurement of the Hubble Constant Via Gravita...   \n",
       "3  Wiedersehen metrics and exotic involutions of ...   \n",
       "4          Casson--type invariants in dimension four   \n",
       "\n",
       "                                            comments journal-ref   doi  \\\n",
       "0  4 pages, 1 figure, v2. In this version of the ...        None  None   \n",
       "1  4 pages, Based on a demonstration presented at...        None  None   \n",
       "2  15 pages, LaTeX, figues included; To appear in...        None  None   \n",
       "3  17 pages, 5 figures, a QuickTime movie visuali...        None  None   \n",
       "4  30 pages, 5 figures. To appear in Proceedings ...        None  None   \n",
       "\n",
       "  report-no                                categories license  \\\n",
       "0      None                                  cond-mat    None   \n",
       "1      None                              Astrophysics    None   \n",
       "2      None                              Astrophysics    None   \n",
       "3      None  Geometric Topology Differential Geometry    None   \n",
       "4      None                        Geometric Topology    None   \n",
       "\n",
       "                                            abstract update_date  \\\n",
       "0    A generic mechanism of collapse in the Gross...  2007-05-23   \n",
       "1    The TAROT telescope has for primary goal the...  2007-05-23   \n",
       "2    Gravitational lensing is now widely and succ...  2007-05-23   \n",
       "3    We provide explicit, simple, geometric formu...  2007-05-23   \n",
       "4    This article surveys our ongoing project abo...  2007-05-23   \n",
       "\n",
       "      pulication_date    last_update_date  number_of_versions  \\\n",
       "0 2001-01-11 21:11:52 2001-01-30 17:01:25                   2   \n",
       "1 2001-09-21 08:10:16 2001-09-21 08:10:16                   1   \n",
       "2 1997-09-08 12:14:51 1997-09-08 12:14:51                   1   \n",
       "3 2005-01-06 20:52:36 2005-07-18 19:27:49                   2   \n",
       "4 2005-01-06 19:59:38 2005-01-06 19:59:38                   1   \n",
       "\n",
       "   publication_date_diff  last_update_date_diff  number_of_authors  \\\n",
       "0                   76.0                   76.0                  3   \n",
       "1                   68.0                   68.0                  7   \n",
       "2                  116.0                  116.0                  2   \n",
       "3                   28.0                   22.0                  4   \n",
       "4                   28.0                   28.0                  2   \n",
       "\n",
       "   number_of_categories                                    groups  \n",
       "0                     1                                  cond-mat  \n",
       "1                     1                              Astrophysics  \n",
       "2                     1                              Astrophysics  \n",
       "3                     2  Geometric Topology Differential Geometry  \n",
       "4                     1                        Geometric Topology  "
      ],
      "text/html": "<div>\n<style scoped>\n    .dataframe tbody tr th:only-of-type {\n        vertical-align: middle;\n    }\n\n    .dataframe tbody tr th {\n        vertical-align: top;\n    }\n\n    .dataframe thead th {\n        text-align: right;\n    }\n</style>\n<table border=\"1\" class=\"dataframe\">\n  <thead>\n    <tr style=\"text-align: right;\">\n      <th></th>\n      <th>id</th>\n      <th>submitter</th>\n      <th>authors</th>\n      <th>title</th>\n      <th>comments</th>\n      <th>journal-ref</th>\n      <th>doi</th>\n      <th>report-no</th>\n      <th>categories</th>\n      <th>license</th>\n      <th>abstract</th>\n      <th>update_date</th>\n      <th>pulication_date</th>\n      <th>last_update_date</th>\n      <th>number_of_versions</th>\n      <th>publication_date_diff</th>\n      <th>last_update_date_diff</th>\n      <th>number_of_authors</th>\n      <th>number_of_categories</th>\n      <th>groups</th>\n    </tr>\n  </thead>\n  <tbody>\n    <tr>\n      <th>0</th>\n      <td>cond-mat/0101160</td>\n      <td>Gennadii Varzugin</td>\n      <td>[Rybin A. V., Varzugin G. G., Timonen J.]</td>\n      <td>Singularity Formation and Collapse in the Attr...</td>\n      <td>4 pages, 1 figure, v2. In this version of the ...</td>\n      <td>None</td>\n      <td>None</td>\n      <td>None</td>\n      <td>cond-mat</td>\n      <td>None</td>\n      <td>A generic mechanism of collapse in the Gross...</td>\n      <td>2007-05-23</td>\n      <td>2001-01-11 21:11:52</td>\n      <td>2001-01-30 17:01:25</td>\n      <td>2</td>\n      <td>76.0</td>\n      <td>76.0</td>\n      <td>3</td>\n      <td>1</td>\n      <td>cond-mat</td>\n    </tr>\n    <tr>\n      <th>1</th>\n      <td>astro-ph/0109371</td>\n      <td>Michel Boer</td>\n      <td>[Boer M., Thiebaut C., Klotz A., Buchholtz G.,...</td>\n      <td>Hands-On TAROT: Intercontinental use of the TA...</td>\n      <td>4 pages, Based on a demonstration presented at...</td>\n      <td>None</td>\n      <td>None</td>\n      <td>None</td>\n      <td>Astrophysics</td>\n      <td>None</td>\n      <td>The TAROT telescope has for primary goal the...</td>\n      <td>2007-05-23</td>\n      <td>2001-09-21 08:10:16</td>\n      <td>2001-09-21 08:10:16</td>\n      <td>1</td>\n      <td>68.0</td>\n      <td>68.0</td>\n      <td>7</td>\n      <td>1</td>\n      <td>Astrophysics</td>\n    </tr>\n    <tr>\n      <th>2</th>\n      <td>astro-ph/9709059</td>\n      <td>Liliya L. R. Williams</td>\n      <td>[Williams Liliya L. R., Schechter Paul L.]</td>\n      <td>Measurement of the Hubble Constant Via Gravita...</td>\n      <td>15 pages, LaTeX, figues included; To appear in...</td>\n      <td>None</td>\n      <td>None</td>\n      <td>None</td>\n      <td>Astrophysics</td>\n      <td>None</td>\n      <td>Gravitational lensing is now widely and succ...</td>\n      <td>2007-05-23</td>\n      <td>1997-09-08 12:14:51</td>\n      <td>1997-09-08 12:14:51</td>\n      <td>1</td>\n      <td>116.0</td>\n      <td>116.0</td>\n      <td>2</td>\n      <td>1</td>\n      <td>Astrophysics</td>\n    </tr>\n    <tr>\n      <th>3</th>\n      <td>math/0501091</td>\n      <td>Thomas Puettmann</td>\n      <td>[Abresch Uwe , Duran Carlos , Puettmann Thomas...</td>\n      <td>Wiedersehen metrics and exotic involutions of ...</td>\n      <td>17 pages, 5 figures, a QuickTime movie visuali...</td>\n      <td>None</td>\n      <td>None</td>\n      <td>None</td>\n      <td>Geometric Topology Differential Geometry</td>\n      <td>None</td>\n      <td>We provide explicit, simple, geometric formu...</td>\n      <td>2007-05-23</td>\n      <td>2005-01-06 20:52:36</td>\n      <td>2005-07-18 19:27:49</td>\n      <td>2</td>\n      <td>28.0</td>\n      <td>22.0</td>\n      <td>4</td>\n      <td>2</td>\n      <td>Geometric Topology Differential Geometry</td>\n    </tr>\n    <tr>\n      <th>4</th>\n      <td>math/0501090</td>\n      <td>Daniel Ruberman</td>\n      <td>[Ruberman Daniel, Saveliev Nikolai]</td>\n      <td>Casson--type invariants in dimension four</td>\n      <td>30 pages, 5 figures. To appear in Proceedings ...</td>\n      <td>None</td>\n      <td>None</td>\n      <td>None</td>\n      <td>Geometric Topology</td>\n      <td>None</td>\n      <td>This article surveys our ongoing project abo...</td>\n      <td>2007-05-23</td>\n      <td>2005-01-06 19:59:38</td>\n      <td>2005-01-06 19:59:38</td>\n      <td>1</td>\n      <td>28.0</td>\n      <td>28.0</td>\n      <td>2</td>\n      <td>1</td>\n      <td>Geometric Topology</td>\n    </tr>\n  </tbody>\n</table>\n</div>"
     },
     "metadata": {},
     "execution_count": 72
    }
   ],
   "source": [
    "print(arxiv.shape)\n",
    "arxiv.head()"
   ]
  },
  {
   "source": [
    "# Сохраним таблицу"
   ],
   "cell_type": "markdown",
   "metadata": {}
  },
  {
   "cell_type": "code",
   "execution_count": 75,
   "metadata": {},
   "outputs": [],
   "source": [
    "arxiv.to_csv('../data/prepared_arxiv.csv', index=False)"
   ]
  },
  {
   "cell_type": "code",
   "execution_count": null,
   "metadata": {},
   "outputs": [],
   "source": []
  }
 ]
}